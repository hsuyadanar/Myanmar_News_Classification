{
  "nbformat": 4,
  "nbformat_minor": 0,
  "metadata": {
    "colab": {
      "name": "mm_news_classification.ipynb",
      "provenance": [],
      "collapsed_sections": []
    },
    "kernelspec": {
      "name": "python3",
      "display_name": "Python 3"
    }
  },
  "cells": [
    {
      "cell_type": "code",
      "metadata": {
        "id": "ieAN1V6yisao",
        "colab": {
          "base_uri": "https://localhost:8080/",
          "height": 206
        },
        "outputId": "f395026e-b300-4f59-d5f2-5005a53fe24a"
      },
      "source": [
        "#Load Data\n",
        "import pandas as pd\n",
        "data = pd.read_csv(\"/content/drive/MyDrive/ColabNotebooks/text classification/myanmar news classification/data/news_data.csv\")\n",
        "\n",
        "data = data.sample(frac = 1) #Shuffle data\n",
        "data.head()"
      ],
      "execution_count": 2,
      "outputs": [
        {
          "output_type": "execute_result",
          "data": {
            "text/plain": [
              "                                               Article       Category  Label\n",
              "214  ပျောက်ဆုံးနေသော အ သက်(၁၄)နှစ်အရွယ် နဝမတန်း ကျေ...          crime      1\n",
              "56   ကျင်းပမည့် ကြားဖြတ် ရွေးကောက်ပွဲတွင် တိုင်းရင်...        politic      3\n",
              "351  အရင်းအနှီးငွေကြေး လိုအပ်နေသည့် လယ်ယာကဏ္႑ အတွက်...       business      0\n",
              "185  လူကြိုက်များသည့် ကိုရီးယား အမျိုးသားအဆိုတော်အဖ...  entertainment      2\n",
              "216  ဒဂုံမြို့သစ်အရှေ့ပိုင်းမြို့နယ် ကြာနီကန်ကျေးရွ...          crime      1"
            ],
            "text/html": [
              "\n",
              "  <div id=\"df-4e36affc-7271-4c4c-b7b3-2c2c2f33c264\">\n",
              "    <div class=\"colab-df-container\">\n",
              "      <div>\n",
              "<style scoped>\n",
              "    .dataframe tbody tr th:only-of-type {\n",
              "        vertical-align: middle;\n",
              "    }\n",
              "\n",
              "    .dataframe tbody tr th {\n",
              "        vertical-align: top;\n",
              "    }\n",
              "\n",
              "    .dataframe thead th {\n",
              "        text-align: right;\n",
              "    }\n",
              "</style>\n",
              "<table border=\"1\" class=\"dataframe\">\n",
              "  <thead>\n",
              "    <tr style=\"text-align: right;\">\n",
              "      <th></th>\n",
              "      <th>Article</th>\n",
              "      <th>Category</th>\n",
              "      <th>Label</th>\n",
              "    </tr>\n",
              "  </thead>\n",
              "  <tbody>\n",
              "    <tr>\n",
              "      <th>214</th>\n",
              "      <td>ပျောက်ဆုံးနေသော အ သက်(၁၄)နှစ်အရွယ် နဝမတန်း ကျေ...</td>\n",
              "      <td>crime</td>\n",
              "      <td>1</td>\n",
              "    </tr>\n",
              "    <tr>\n",
              "      <th>56</th>\n",
              "      <td>ကျင်းပမည့် ကြားဖြတ် ရွေးကောက်ပွဲတွင် တိုင်းရင်...</td>\n",
              "      <td>politic</td>\n",
              "      <td>3</td>\n",
              "    </tr>\n",
              "    <tr>\n",
              "      <th>351</th>\n",
              "      <td>အရင်းအနှီးငွေကြေး လိုအပ်နေသည့် လယ်ယာကဏ္႑ အတွက်...</td>\n",
              "      <td>business</td>\n",
              "      <td>0</td>\n",
              "    </tr>\n",
              "    <tr>\n",
              "      <th>185</th>\n",
              "      <td>လူကြိုက်များသည့် ကိုရီးယား အမျိုးသားအဆိုတော်အဖ...</td>\n",
              "      <td>entertainment</td>\n",
              "      <td>2</td>\n",
              "    </tr>\n",
              "    <tr>\n",
              "      <th>216</th>\n",
              "      <td>ဒဂုံမြို့သစ်အရှေ့ပိုင်းမြို့နယ် ကြာနီကန်ကျေးရွ...</td>\n",
              "      <td>crime</td>\n",
              "      <td>1</td>\n",
              "    </tr>\n",
              "  </tbody>\n",
              "</table>\n",
              "</div>\n",
              "      <button class=\"colab-df-convert\" onclick=\"convertToInteractive('df-4e36affc-7271-4c4c-b7b3-2c2c2f33c264')\"\n",
              "              title=\"Convert this dataframe to an interactive table.\"\n",
              "              style=\"display:none;\">\n",
              "        \n",
              "  <svg xmlns=\"http://www.w3.org/2000/svg\" height=\"24px\"viewBox=\"0 0 24 24\"\n",
              "       width=\"24px\">\n",
              "    <path d=\"M0 0h24v24H0V0z\" fill=\"none\"/>\n",
              "    <path d=\"M18.56 5.44l.94 2.06.94-2.06 2.06-.94-2.06-.94-.94-2.06-.94 2.06-2.06.94zm-11 1L8.5 8.5l.94-2.06 2.06-.94-2.06-.94L8.5 2.5l-.94 2.06-2.06.94zm10 10l.94 2.06.94-2.06 2.06-.94-2.06-.94-.94-2.06-.94 2.06-2.06.94z\"/><path d=\"M17.41 7.96l-1.37-1.37c-.4-.4-.92-.59-1.43-.59-.52 0-1.04.2-1.43.59L10.3 9.45l-7.72 7.72c-.78.78-.78 2.05 0 2.83L4 21.41c.39.39.9.59 1.41.59.51 0 1.02-.2 1.41-.59l7.78-7.78 2.81-2.81c.8-.78.8-2.07 0-2.86zM5.41 20L4 18.59l7.72-7.72 1.47 1.35L5.41 20z\"/>\n",
              "  </svg>\n",
              "      </button>\n",
              "      \n",
              "  <style>\n",
              "    .colab-df-container {\n",
              "      display:flex;\n",
              "      flex-wrap:wrap;\n",
              "      gap: 12px;\n",
              "    }\n",
              "\n",
              "    .colab-df-convert {\n",
              "      background-color: #E8F0FE;\n",
              "      border: none;\n",
              "      border-radius: 50%;\n",
              "      cursor: pointer;\n",
              "      display: none;\n",
              "      fill: #1967D2;\n",
              "      height: 32px;\n",
              "      padding: 0 0 0 0;\n",
              "      width: 32px;\n",
              "    }\n",
              "\n",
              "    .colab-df-convert:hover {\n",
              "      background-color: #E2EBFA;\n",
              "      box-shadow: 0px 1px 2px rgba(60, 64, 67, 0.3), 0px 1px 3px 1px rgba(60, 64, 67, 0.15);\n",
              "      fill: #174EA6;\n",
              "    }\n",
              "\n",
              "    [theme=dark] .colab-df-convert {\n",
              "      background-color: #3B4455;\n",
              "      fill: #D2E3FC;\n",
              "    }\n",
              "\n",
              "    [theme=dark] .colab-df-convert:hover {\n",
              "      background-color: #434B5C;\n",
              "      box-shadow: 0px 1px 3px 1px rgba(0, 0, 0, 0.15);\n",
              "      filter: drop-shadow(0px 1px 2px rgba(0, 0, 0, 0.3));\n",
              "      fill: #FFFFFF;\n",
              "    }\n",
              "  </style>\n",
              "\n",
              "      <script>\n",
              "        const buttonEl =\n",
              "          document.querySelector('#df-4e36affc-7271-4c4c-b7b3-2c2c2f33c264 button.colab-df-convert');\n",
              "        buttonEl.style.display =\n",
              "          google.colab.kernel.accessAllowed ? 'block' : 'none';\n",
              "\n",
              "        async function convertToInteractive(key) {\n",
              "          const element = document.querySelector('#df-4e36affc-7271-4c4c-b7b3-2c2c2f33c264');\n",
              "          const dataTable =\n",
              "            await google.colab.kernel.invokeFunction('convertToInteractive',\n",
              "                                                     [key], {});\n",
              "          if (!dataTable) return;\n",
              "\n",
              "          const docLinkHtml = 'Like what you see? Visit the ' +\n",
              "            '<a target=\"_blank\" href=https://colab.research.google.com/notebooks/data_table.ipynb>data table notebook</a>'\n",
              "            + ' to learn more about interactive tables.';\n",
              "          element.innerHTML = '';\n",
              "          dataTable['output_type'] = 'display_data';\n",
              "          await google.colab.output.renderOutput(dataTable, element);\n",
              "          const docLink = document.createElement('div');\n",
              "          docLink.innerHTML = docLinkHtml;\n",
              "          element.appendChild(docLink);\n",
              "        }\n",
              "      </script>\n",
              "    </div>\n",
              "  </div>\n",
              "  "
            ]
          },
          "metadata": {},
          "execution_count": 2
        }
      ]
    },
    {
      "cell_type": "code",
      "metadata": {
        "id": "NBGEggK5iVUo",
        "colab": {
          "base_uri": "https://localhost:8080/"
        },
        "outputId": "c55fceec-b3b5-409f-c974-9add68300549"
      },
      "source": [
        "#Check null values\n",
        "print(\"null check: \", data.isnull().values.any())"
      ],
      "execution_count": 3,
      "outputs": [
        {
          "output_type": "stream",
          "name": "stdout",
          "text": [
            "null check:  False\n"
          ]
        }
      ]
    },
    {
      "cell_type": "code",
      "metadata": {
        "id": "eXrgzmGOigGC"
      },
      "source": [
        "from sklearn.model_selection import train_test_split\n",
        "\n",
        "X_train, X_test, y_train, y_test = train_test_split(data['Article'], data['Category'], test_size = 0.1, shuffle= True)\n"
      ],
      "execution_count": 4,
      "outputs": []
    },
    {
      "cell_type": "code",
      "source": [
        "#TF-IDF Vectorization\n",
        "from sklearn.feature_extraction.text import TfidfVectorizer\n",
        "\n",
        "\n",
        "tfidf_vectorizer = TfidfVectorizer(use_idf = True)\n",
        "train_vec = tfidf_vectorizer.fit_transform(X_train)\n",
        "test_vec = tfidf_vectorizer.transform(X_test)\n",
        "\n",
        "print(train_vec.shape)\n",
        "print(test_vec.shape)"
      ],
      "metadata": {
        "colab": {
          "base_uri": "https://localhost:8080/"
        },
        "id": "aBZgZAAOkkZy",
        "outputId": "6af0bbf2-c4b4-4f2a-c5ad-7df13fc16521"
      },
      "execution_count": 5,
      "outputs": [
        {
          "output_type": "stream",
          "name": "stdout",
          "text": [
            "(359, 2718)\n",
            "(40, 2718)\n"
          ]
        }
      ]
    },
    {
      "cell_type": "markdown",
      "source": [
        "Logistic Regression with tf-idf"
      ],
      "metadata": {
        "id": "QVUazIRXiBjZ"
      }
    },
    {
      "cell_type": "code",
      "metadata": {
        "id": "mp_hcrAVikmo",
        "colab": {
          "base_uri": "https://localhost:8080/"
        },
        "outputId": "26482c6e-0c24-43e8-99a7-1210d15e8b5a"
      },
      "source": [
        "#Train model\n",
        "from sklearn.linear_model import LogisticRegression\n",
        "\n",
        "lr_tfidf = LogisticRegression()\n",
        "lr_tfidf.fit(train_vec, y_train)\n"
      ],
      "execution_count": 11,
      "outputs": [
        {
          "output_type": "execute_result",
          "data": {
            "text/plain": [
              "LogisticRegression()"
            ]
          },
          "metadata": {},
          "execution_count": 11
        }
      ]
    },
    {
      "cell_type": "code",
      "source": [
        "#Predict test data\n",
        "from sklearn.metrics import classification_report\n",
        "\n",
        "y_predict_lr = lr_tfidf.predict(test_vec)\n",
        "print(classification_report(y_test, y_predict_lr))\n"
      ],
      "metadata": {
        "colab": {
          "base_uri": "https://localhost:8080/"
        },
        "id": "2E35pI5Ul6WK",
        "outputId": "fa4f9ee0-f469-4afc-d968-80a318933fe9"
      },
      "execution_count": 12,
      "outputs": [
        {
          "output_type": "stream",
          "name": "stdout",
          "text": [
            "               precision    recall  f1-score   support\n",
            "\n",
            "     business       0.82      1.00      0.90         9\n",
            "        crime       0.86      0.92      0.89        13\n",
            "entertainment       1.00      1.00      1.00         8\n",
            "      politic       1.00      0.70      0.82        10\n",
            "\n",
            "     accuracy                           0.90        40\n",
            "    macro avg       0.92      0.91      0.90        40\n",
            " weighted avg       0.91      0.90      0.90        40\n",
            "\n"
          ]
        }
      ]
    },
    {
      "cell_type": "markdown",
      "source": [
        "Support Vector Machine with tf-idf"
      ],
      "metadata": {
        "id": "vyObqWae4Jtb"
      }
    },
    {
      "cell_type": "code",
      "source": [
        "#Train model\n",
        "from sklearn import svm\n",
        "\n",
        "svm_tfidf = svm.SVC(C = 1.0, kernel = 'linear', degree = 3, gamma = 'auto')\n",
        "svm_tfidf.fit(train_vec, y_train)"
      ],
      "metadata": {
        "id": "OPFBGFuP4YvQ",
        "colab": {
          "base_uri": "https://localhost:8080/"
        },
        "outputId": "9bbfb590-78c3-4608-c706-1862c5f835e1"
      },
      "execution_count": 13,
      "outputs": [
        {
          "output_type": "execute_result",
          "data": {
            "text/plain": [
              "SVC(gamma='auto', kernel='linear')"
            ]
          },
          "metadata": {},
          "execution_count": 13
        }
      ]
    },
    {
      "cell_type": "code",
      "source": [
        "#Predict test data\n",
        "from sklearn.metrics import classification_report\n",
        "\n",
        "y_predict_svm = svm_tfidf.predict(test_vec)\n",
        "\n",
        "print(classification_report(y_test, y_predict_svm))"
      ],
      "metadata": {
        "colab": {
          "base_uri": "https://localhost:8080/"
        },
        "id": "GkmRv2D-5Yl4",
        "outputId": "334d2585-2668-4813-bff1-6bbb07642dba"
      },
      "execution_count": 14,
      "outputs": [
        {
          "output_type": "stream",
          "name": "stdout",
          "text": [
            "               precision    recall  f1-score   support\n",
            "\n",
            "     business       0.82      1.00      0.90         9\n",
            "        crime       0.86      0.92      0.89        13\n",
            "entertainment       1.00      1.00      1.00         8\n",
            "      politic       1.00      0.70      0.82        10\n",
            "\n",
            "     accuracy                           0.90        40\n",
            "    macro avg       0.92      0.91      0.90        40\n",
            " weighted avg       0.91      0.90      0.90        40\n",
            "\n"
          ]
        }
      ]
    },
    {
      "cell_type": "markdown",
      "source": [
        "Naive Bayes"
      ],
      "metadata": {
        "id": "daWmlI338gDo"
      }
    },
    {
      "cell_type": "code",
      "source": [
        "#Train model\n",
        "from sklearn.naive_bayes import MultinomialNB\n",
        "\n",
        "nb_tfidf = MultinomialNB()\n",
        "nb_tfidf.fit(train_vec, y_train)\n"
      ],
      "metadata": {
        "colab": {
          "base_uri": "https://localhost:8080/"
        },
        "id": "6MiQp_rb8nk8",
        "outputId": "b2956bff-0dd8-4f9f-9d00-8613497242c2"
      },
      "execution_count": 17,
      "outputs": [
        {
          "output_type": "execute_result",
          "data": {
            "text/plain": [
              "MultinomialNB()"
            ]
          },
          "metadata": {},
          "execution_count": 17
        }
      ]
    },
    {
      "cell_type": "code",
      "source": [
        "#Predict test data\n",
        "from sklearn.metrics import classification_report\n",
        "\n",
        "y_predict_nb = nb_tfidf.predict(test_vec)\n",
        "\n",
        "print(classification_report(y_test, y_predict_nb))"
      ],
      "metadata": {
        "colab": {
          "base_uri": "https://localhost:8080/"
        },
        "id": "fbULryLI84LP",
        "outputId": "8fdb2594-83c7-4708-8208-a7f626eba2ac"
      },
      "execution_count": 18,
      "outputs": [
        {
          "output_type": "stream",
          "name": "stdout",
          "text": [
            "               precision    recall  f1-score   support\n",
            "\n",
            "     business       1.00      0.67      0.80         9\n",
            "        crime       0.92      0.92      0.92        13\n",
            "entertainment       1.00      1.00      1.00         8\n",
            "      politic       0.69      0.90      0.78        10\n",
            "\n",
            "     accuracy                           0.88        40\n",
            "    macro avg       0.90      0.87      0.88        40\n",
            " weighted avg       0.90      0.88      0.88        40\n",
            "\n"
          ]
        }
      ]
    },
    {
      "cell_type": "code",
      "metadata": {
        "id": "cb9F6-GPYXoB"
      },
      "source": [
        ""
      ],
      "execution_count": null,
      "outputs": []
    },
    {
      "cell_type": "code",
      "metadata": {
        "id": "Rf3AZbSVYXtZ"
      },
      "source": [
        ""
      ],
      "execution_count": null,
      "outputs": []
    },
    {
      "cell_type": "code",
      "metadata": {
        "id": "t-57IsKpYncZ"
      },
      "source": [
        ""
      ],
      "execution_count": null,
      "outputs": []
    }
  ]
}